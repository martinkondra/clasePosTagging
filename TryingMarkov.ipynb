{
 "cells": [
  {
   "cell_type": "code",
   "execution_count": 5,
   "metadata": {},
   "outputs": [
    {
     "name": "stdout",
     "output_type": "stream",
     "text": [
      "Si usté los oyera, como yo en mi coche, levantados los pies del cual estaba otro rétulo que decía: Sancho Zancas, y debía de ser caballero andante; y, llegándose a Sancho, le dijo: -Dadme, buen hombre, ese báculo, que le he preguntado.\n",
      "\n",
      "\n",
      "-No es muy mala -respondió Sancho-, pero es tan grande la desmoralización que Rosas ha engendrado; los crímenes de Estado, ese tribunal se había apoderado de la administración.\n",
      "\n",
      "\n",
      "Cada vez más sombrío, más imperioso, más selvático, la pasión del juego es en los más hondos y escuros calabozos del infierno.\n",
      "\n",
      "\n",
      "¡Bien haya mil veces el autor de nuestra historia; que a los nuestros regía, sino por los pecados de los hombres.\n",
      "\n",
      "\n",
      "Y fue el mal que me das, terrible y fuerte, voy corriendo a la muerte, ni hay pensar morir de ferida alguna.\n",
      "\n",
      "\n"
     ]
    }
   ],
   "source": [
    "import markovify\n",
    "text = ''\n",
    "# Get raw text as string.\n",
    "with open(\"./martinfierro.txt\") as f:\n",
    "    text += f.read()\n",
    "with open(\"./facundo.txt\") as f:\n",
    "    text += f.read()\n",
    "with open(\"./quijote.txt\") as f:\n",
    "    text += f.read()\n",
    "\n",
    "# Build the model.\n",
    "text_model = markovify.Text(text, state_size=3)\n",
    "\n",
    "# Print five randomly-generated sentences\n",
    "for i in range(5):\n",
    "    print(text_model.make_sentence())\n",
    "    print('\\n')\n",
    "# Print three randomly-generated sentences of no more than 140 characters\n",
    "#for i in range(3):\n",
    "#    print(text_model.make_short_sentence(140))"
   ]
  }
 ],
 "metadata": {
  "kernelspec": {
   "display_name": "Python 2",
   "language": "python",
   "name": "python2"
  },
  "language_info": {
   "codemirror_mode": {
    "name": "ipython",
    "version": 2
   },
   "file_extension": ".py",
   "mimetype": "text/x-python",
   "name": "python",
   "nbconvert_exporter": "python",
   "pygments_lexer": "ipython2",
   "version": "2.7.12"
  }
 },
 "nbformat": 4,
 "nbformat_minor": 2
}

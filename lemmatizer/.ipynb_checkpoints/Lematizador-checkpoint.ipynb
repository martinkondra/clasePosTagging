{
 "cells": [
  {
   "cell_type": "code",
   "execution_count": 1,
   "metadata": {},
   "outputs": [
    {
     "name": "stdout",
     "output_type": "stream",
     "text": [
      "[[(u'Las', u'DA'), (u'calles', u'NC'), (u'de', u'SP'), (u'Buenos', u'AQ'), (u'Aires', u'NC'), (u'tienen', u'VMI'), (u'esas', u'DD'), (u'casas', u'NC'), (u'azules', u'AQ'), (u'.', u'Fp')]]\n",
      "[[(u'las', u'las'), (u'calles', u'calles'), (u'de', u'de'), (u'buenos', u'buenos'), (u'aires', u'aires'), (u'tienen', u'tener'), (u'esas', u'esas'), (u'casas', u'casas'), (u'azules', u'azules'), (u'.', u'.')]]\n"
     ]
    }
   ],
   "source": [
    "#!/usr/bin/env python\n",
    "#-*- coding: utf-8 -*-\n",
    "\n",
    "__author__ = \"Martin Kondra\"\n",
    "\n",
    "import nltk\n",
    "import codecs\n",
    "from difflib import get_close_matches\n",
    "import pickle\n",
    "\n",
    "class Lemmatizer(tagger, dicc):\n",
    "    def init():\n",
    "        self.tagger = tagger\n",
    "        self.dicc = dicc\n",
    "        \n",
    "    def build_dicc():\n",
    "        freeling_dicc = codecs.open('dicc.src', 'r', 'utf-8')\n",
    "        my_dicc = {}\n",
    "        for line in freeling_dicc:\n",
    "            line = line.strip().split()\n",
    "            form = line[0]\n",
    "            my_dicc[form] = line[1:]\n",
    "        print('Dumping pickle...')\n",
    "        pickle.dump(my_dicc, open(\"freeling_dicc.p\", \"wb\"))\n",
    "\n",
    "    def processing(text, tagger):\n",
    "        lemmatized_sentences = []\n",
    "        sample = sample.decode('utf-8')\n",
    "        sentences = nltk.sent_tokenize(sample)\n",
    "        tokenized_sentences = [nltk.word_tokenize(sentence) for sentence in sentences]\n",
    "        postagged_sentences = [tagger.tag(sentence) for sentence in tokenized_sentences]\n",
    "        print(postagged_sentences)\n",
    "        for sentence in postagged_sentences:\n",
    "            s = []\n",
    "            for i in sentence:\n",
    "                word = i[0].lower()\n",
    "                tag = i[1].upper()\n",
    "                lemma = get_lemma(word, tag)\n",
    "                s.append((word, lemma))\n",
    "            lemmatized_sentences.append(s)\n",
    "        return lemmatized_sentences\n",
    "\n",
    "    def get_lemma_and_pos(word, tag):\n",
    "        try:\n",
    "            entry = my_dicc[word]\n",
    "            #devuelve una lista de tuplas lemma/tag\n",
    "            lemma_tag_pairs = zip(entry[::2], entry[1::2]) \n",
    "            tags = [i[1] for i in lemma_tag_pairs]\n",
    "            tag = get_close_matches(tag, tags)[0]\n",
    "            lemma = [i[0] for i in lemma_tag_pairs if i[1]==tag][0]\n",
    "            return word, lemma, tag\n",
    "        except:\n",
    "            return word, word, tag\n",
    "\n",
    "    def get_lemma(word, tag):\n",
    "        try:\n",
    "            entry = my_dicc[word]\n",
    "            #devuelve una lista de tuplas lemma/tag\n",
    "            lemma_tag_pairs = zip(entry[::2], entry[1::2])\n",
    "            tags = [i[1] for i in lemma_tag_pairs]\n",
    "            tag = get_close_matches(tag, tags)[0]\n",
    "            lemma = [i[0] for i in lemma_tag_pairs if i[1]==tag][0]\n",
    "            return lemma\n",
    "        except:\n",
    "            return word"
   ]
  },
  {
   "cell_type": "code",
   "execution_count": 4,
   "metadata": {},
   "outputs": [],
   "source": [
    "nltk.app.rdparser()"
   ]
  },
  {
   "cell_type": "code",
   "execution_count": 7,
   "metadata": {},
   "outputs": [
    {
     "name": "stdout",
     "output_type": "stream",
     "text": [
      "making tagger tagger\n",
      "  ==> Training (10 iterations)\n",
      "\n",
      "      Iteration    Log Likelihood    Accuracy\n",
      "      ---------------------------------------\n",
      "             1          -4.07754        0.025\n",
      "             2          -0.45165        0.983\n",
      "             3          -0.17130        0.989\n",
      "         Final          -0.10671        0.991\n",
      "dumping\n"
     ]
    }
   ],
   "source": [
    "#!/usr/bin/env python\n",
    "#-*- coding: utf-8 -*-\n",
    "\n",
    "__author__ = \"Martin Kondra\"\n",
    "\n",
    "import pickle\n",
    "\n",
    "from nltk.tag.sequential import ClassifierBasedPOSTagger\n",
    "from nltk.classify import MaxentClassifier\n",
    "\n",
    "from nltk.corpus import conll2002\n",
    "corpus_words = conll2002.words('esp.train')\n",
    "corpus_tagged_words = conll2002.tagged_words('esp.train')\n",
    "corpus_sents = conll2002.sents('esp.train')\n",
    "train_tagged_sents = conll2002.tagged_sents('esp.train')\n",
    "test_tagged_sents = conll2002.tagged_sents('esp.testa')\n",
    "\n",
    "\n",
    "print(\"making tagger tagger\")\n",
    "#maxent_tagger = ClassifierBasedPOSTagger(train=train_tagged_sents, classifier_builder=lambda train_feats: MaxentClassifier.train(train_feats, algorithm='gis', max_iter=10, min_lldelta=0.1))\n",
    "print(\"dumping\")\n",
    "#pickle.dump(maxent_tagger, open(\"maxent_taggerEagle.p\", \"wb\"))\n",
    "#maxent_tagger = pickle.load(open(\"maxent_tagger.p\", \"rb\"))"
   ]
  },
  {
   "cell_type": "code",
   "execution_count": null,
   "metadata": {},
   "outputs": [],
   "source": []
  }
 ],
 "metadata": {
  "kernelspec": {
   "display_name": "Python 3",
   "language": "python",
   "name": "python3"
  },
  "language_info": {
   "codemirror_mode": {
    "name": "ipython",
    "version": 2
   },
   "file_extension": ".py",
   "mimetype": "text/x-python",
   "name": "python",
   "nbconvert_exporter": "python",
   "pygments_lexer": "ipython2",
   "version": "2.7.12"
  }
 },
 "nbformat": 4,
 "nbformat_minor": 2
}

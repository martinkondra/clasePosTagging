{
 "cells": [
  {
   "cell_type": "markdown",
   "metadata": {},
   "source": [
    "# <center>Clase 5: POS Tagging</center>"
   ]
  },
  {
   "cell_type": "markdown",
   "metadata": {},
   "source": [
    "#### ¿Qué es taguear? ¿Para qué nos sirve?\n",
    "\n",
    "● Asignarle a cada palabra su clase gramatical (‘part of speech’).  \n",
    "● Convertir un objeto sentence (lista de palabras) en una lista de tuplas\n",
    "(word, tag).  \n",
    "● Paso previo necesario antes casi cualquier otra tarea de más alto nivel:\n",
    "lemmatizing, chunking, parsing, word sense disambiguation.  \n"
   ]
  },
  {
   "cell_type": "markdown",
   "metadata": {},
   "source": [
    "Para esto vamos a utilizar un corpus, a fin de evaluar los taggers que vayamos desarrollando y, en algunos casos, también para entrenarlos.\n",
    "\n",
    "En principio podemos decir que hay dos clases de corpus:\n",
    "1. Corpus ‘crudos’: cualquier texto en formato digital, como los cuentos que usaron en clases anteriores.\n",
    "2. Corpus anotados: contienen algún tipo de anotación lingüística (clase de palabra, sintaxis, entidades, valoración, etc.)\n",
    "\n",
    "Para esta clase vamos a usar corpus con anotación de clase de palabra (part of speech, POS). En NLTK tenemos dos corpus con anotación de clase de palabra en español:\n",
    "\n",
    "● CoNLL2002 (Conference on Computational Natural Language Learning)  \n",
    "● CessEsp (corpus multilingüe de español y catalán)\n",
    "\n",
    "En este encuentro vamos a trabajar con el CoNLL2002.\n"
   ]
  },
  {
   "cell_type": "markdown",
   "metadata": {},
   "source": [
    "El formato del CoNLL2002 es bastante simple, cada archivo del corpus tiene una palabra por línea, junto con su POStag y su namedEntity tag. Las líneas vacías señalan límites entre oraciones, y las líneas que dicen '-DOCSTART-' marcan límites entre artículos (el corpus se compone de artículos periodísticos).  \n",
    "\n",
    "Palabra POSTag namedEntityTag\n",
    "    \n",
    "Según SP O  \n",
    "los DA O  \n",
    "datos NC O  \n",
    "difundidos AQ O  \n",
    "hoy RG O  \n",
    "por SP O  \n",
    "Telefónica AQ B-ORG  \n",
    ", Fc O  \n",
    "la DA O  \n",
    "empresa NC O  \n",
    "ha VAI O  \n",
    "impuesto VMP O  \n",
    "en SP O  \n",
    "Sao NC B-LOC  \n",
    "Paulo VMI I-LOC  \n",
    "una DI O  \n",
    "marca NC O  \n",
    "mundial AQ O  \n",
    "en SP O  \n",
    "la DA O  \n",
    "expansión NC O  \n",
    "de SP O  \n",
    "redes NC O  \n",
    "de SP O  \n",
    "telefonía NC O  \n",
    "fija AQ O  "
   ]
  },
  {
   "cell_type": "markdown",
   "metadata": {},
   "source": [
    "#### ¿Cómo cargo un corpus en NLTK?"
   ]
  },
  {
   "cell_type": "code",
   "execution_count": 1,
   "metadata": {},
   "outputs": [],
   "source": [
    "import nltk\n",
    "from nltk.tokenize import word_tokenize\n",
    "from nltk.corpus import cess_esp\n",
    "from nltk.corpus import conll2002"
   ]
  },
  {
   "cell_type": "code",
   "execution_count": 2,
   "metadata": {},
   "outputs": [
    {
     "name": "stdout",
     "output_type": "stream",
     "text": [
      "These files contain the train and test data for for the three parts of \n",
      "the CoNLL-2002 shared task:\n",
      "\n",
      "   esp.testa: Spanish test data for the development stage\n",
      "   esp.testb: Spanish test data\n",
      "   esp.train: Spanish train data\n",
      "   ned.testa: Dutch test data for the development stage\n",
      "   ned.testb: Dutch test data\n",
      "   ned.train: Dutch train data\n",
      "\n",
      "All data files contain a single word per line with it associated \n",
      "named entity tag in the IOB2 format (Tjong Kim Sang and Veenstra,\n",
      "EACL 1999). Sentence breaks are encoded by empty lines. Additionally\n",
      "the Dutch data contains non-checked part-of-speech tags generated\n",
      "by the MBT tagger (Daelemans et.al., WVLC 1996). In the Dutch data\n",
      "article boundaries have been marked by a special tag (-DOCSTART-).\n",
      "\n",
      "Associated url: http://lcg-www.uia.ac.be/conll2002/ner/\n",
      "\n",
      "\n",
      "NOTES\n",
      "\n",
      "* Files in these directories may only be used for research\n",
      "  applications in the context of the CoNLL-2002 shared task.\n",
      "  No permission is given for usage other applications especially\n",
      "  not for commercial applications.\n",
      "* Some redundant empty lines have been removed from the Spanish \n",
      "  data files at May 1, 2002. The extra empty lines had no effect \n",
      "  on the evaluation results.\n",
      "* An extra checkup round has been applied to the Dutch data files\n",
      "  and these have been replaced by new versions on August 22, 2002.\n",
      "  The original Dutch files which have been used by the participants\n",
      "  of CoNLL-2002 can be found in the subdirectory OldFiles.\n",
      "* Note that for copyright reasons the sentences in the Dutch files \n",
      "  have been randomized within each article. Your system can rely on \n",
      "  sentences between two article boundaries being of the same\n",
      "  article but it should not rely on first occurrences of entities.\n",
      "* Xavier Carreras provides the Spanish data sets with part of speech \n",
      "  tags at http://www.lsi.upc.es/~nlp/tools/nerc/nerc.html (20030803)\n",
      "* Inconsistencies in the named entity annotation can be reported\n",
      "  to Erik Tjong Kim Sang <erikt@uia.ua.ac.be>. \n",
      " \n",
      "\n",
      "ACKNOWLEDGEMENTS\n",
      "\n",
      "The Spanish data is a collection of news wire articles made\n",
      "available by the Spanish EFE News Agency. The articles are from \n",
      "May 2000. The annotation was carried out by the TALP Research \n",
      "Center (http://www.talp.upc.es/) of the Technical University \n",
      "of Catalonia (UPC) and the Center of Language and Computation \n",
      "(CLiC, http://clic.fil.ub.es/) of the University of Barcelona \n",
      "(UB), and funded by the European Commission through the NAMIC \n",
      "project (IST-1999-12392).\n",
      "\n",
      "The Dutch data consist of four editions of the Belgian newspaper\n",
      "\"De Morgen\" of 2000 (June 2, July 1, August 1 and September 1).\n",
      "The data was annotated as a part of the Atranos project\n",
      "(http://atranos.esat.kuleuven.ac.be/) at the University of\n",
      "Antwerp.\n",
      "\n",
      "\n"
     ]
    }
   ],
   "source": [
    "print(conll2002.readme())"
   ]
  },
  {
   "cell_type": "code",
   "execution_count": 3,
   "metadata": {},
   "outputs": [],
   "source": [
    "corpus_words = conll2002.words('esp.train')\n",
    "corpus_tagged_words = conll2002.tagged_words('esp.train')\n",
    "corpus_sents = conll2002.sents('esp.train')"
   ]
  },
  {
   "cell_type": "markdown",
   "metadata": {},
   "source": [
    "Cuando cargamos un corpus utilizando nltk.corpus() disponemos de ciertos métodos propios de estos objetos:\n",
    "   \n",
    "● corpus.fileids()<br> \n",
    "● corpus.raw()  <br>\n",
    "● corpus.words()  <br>\n",
    "● corpus.sents()  <br>\n",
    "● corpus.tagged_sents()<br> \n"
   ]
  },
  {
   "cell_type": "code",
   "execution_count": 4,
   "metadata": {},
   "outputs": [
    {
     "name": "stdout",
     "output_type": "stream",
     "text": [
      "<class 'nltk.collections.LazyConcatenation'>\n",
      "[u'Melbourne', u'(', u'Australia', u')', u',', u'25', u'may', u'(', u'EFE', u')']\n",
      "[u'Por', u'su', u'parte', u',', u'el', u'Abogado', u'General', u'de', u'Victoria', u',', u'Rob', u'Hulls', u',', u'indic\\xf3', u'que', u'no', u'hay', u'nadie', u'que', u'controle', u'que', u'las', u'informaciones', u'contenidas', u'en', u'CrimeNet', u'son', u'veraces', u'.']\n"
     ]
    }
   ],
   "source": [
    "print(type(corpus_words))\n",
    "print(corpus_words[:10])\n",
    "print(corpus_sents[5])"
   ]
  },
  {
   "cell_type": "markdown",
   "metadata": {},
   "source": [
    "#### Vamos a inspeccionar un poco el corpus"
   ]
  },
  {
   "cell_type": "code",
   "execution_count": 5,
   "metadata": {},
   "outputs": [
    {
     "name": "stdout",
     "output_type": "stream",
     "text": [
      "Palabras: 264715\n",
      "Oraciones: 8323\n",
      "Lexico: 26099\n",
      "('Tagset', set(['DN', 'Fpa', 'VSP', 'Fit', 'DI', 'DD', 'DA', 'Fpt', 'Fia', 'DT', 'DP', 'Fp', 'PP', 'Fs', 'Ft', 'PT', 'Fx', 'Fz', 'NC', 'Fat', 'I', 'Fc', 'Fd', 'Fe', 'PD', 'Fg', 'NP', 'RN', 'PI', 'PN', 'Y', 'PR', 'P0', 'VAI', 'VAN', 'VAM', 'CC', 'AO', 'AQ', 'RG', 'VSS', 'PX', 'CS', 'VAS', 'VAP', 'Z', 'Fh', 'VMN', 'Faa', 'VMM', 'VMI', 'VMG', 'SP', 'VSM', 'VSN', 'VSG', 'VSI', 'VMS', 'VMP']))\n",
      "('Cantidad de elementos en el tagset', 59)\n"
     ]
    }
   ],
   "source": [
    "def corpus_info():\n",
    "    print('Palabras: ' + str(len(corpus_words)))\n",
    "    print('Oraciones: ' + str(len(corpus_sents)))\n",
    "    print('Lexico: ' + str(len(set(corpus_words))))\n",
    "\n",
    "corpus_info()\n",
    "\n",
    "def tagset_info():\n",
    "    tags = [str(tag) for (word, tag) in corpus_tagged_words]\n",
    "    tagset = set(tags)\n",
    "    print(\"Tagset\", tagset)\n",
    "    print(\"Cantidad de elementos en el tagset\", len(tagset))\n",
    "\n",
    "tagset_info()"
   ]
  },
  {
   "cell_type": "markdown",
   "metadata": {},
   "source": [
    "#### Frecuencia y frecuencia acumulada de las etiquetas"
   ]
  },
  {
   "cell_type": "markdown",
   "metadata": {},
   "source": [
    "![alt text](tagset_dist.jpg \"Frecuencia acumulada de tags\")"
   ]
  },
  {
   "cell_type": "markdown",
   "metadata": {},
   "source": [
    "![alt text](tagsettable.jpg \"Frecuencia acumulada de tags\")\n"
   ]
  },
  {
   "cell_type": "markdown",
   "metadata": {},
   "source": [
    "# Taggers: modelos entrenables y no entrenables  \n",
    "\n",
    "A partir de acá, vamos a empezar a introducir, modelar y evaluar una serie de taggers. <br>\n",
    "\n",
    "Con 'taggers' nos referimos a algoritmos que toman como input un objeto sentence (una lista de palabras) y devuelven una lista de tuplas (palabra, tag). <br>\n",
    "\n",
    "Cualquiera de estos taggers no toma como input un texto 'crudo' (por ejemplo una string, o un archivo en formato .txt) sino un texto ya tokenizado.\n",
    "\n",
    "        -> Proceso: transformar una lista de palabras a una lista de tuplas (word, tag)  \n",
    "        -> Preproceso: tokenizar la oración \n",
    "        \n",
    "El módulo tokenize de nltk nos permite usar una función 'word_tokenize', que es un tokenizador genérico para cualquier idioma."
   ]
  },
  {
   "cell_type": "code",
   "execution_count": null,
   "metadata": {},
   "outputs": [],
   "source": [
    "from nltk.tokenize import word_tokenize\n",
    "\n",
    "sentence = u'Arriba las manos! Llegó el estado.'\n",
    "dummy_tokenized = sentence.split(' ')\n",
    "print(dummy_tokenized)\n",
    "tokenized = word_tokenize(sentence)\n",
    "print(tokenized)"
   ]
  },
  {
   "cell_type": "markdown",
   "metadata": {},
   "source": [
    "Al igual que los corpus, todos los taggers generados en NLTK tienen algunos métodos en común:   \n",
    "        ● tag()  \n",
    "        ● tag_sents()  \n",
    "        ● untag()  \n",
    "        ● evaluate() \n"
   ]
  },
  {
   "cell_type": "markdown",
   "metadata": {},
   "source": [
    "Para trabajar con taggers entrenables es necesario dividir nuestros datos (en nuestro caso, el corpus con oraciones postaggeadas) en dos subconjuntos, uno de entrenamiento y otro de testeo. Lo que vamos hacer cuando trabajemos con taggers entrenables es generar un modelo a partir del conjunto de entrenamiento y evaluarlo posteriormente a partir del conjunto de test."
   ]
  },
  {
   "cell_type": "markdown",
   "metadata": {},
   "source": [
    "![alt text](traintest.png \"Train and test sets\")"
   ]
  },
  {
   "cell_type": "code",
   "execution_count": 6,
   "metadata": {},
   "outputs": [
    {
     "name": "stdout",
     "output_type": "stream",
     "text": [
      "[(u'Por', u'SP'), (u'su', u'DP'), (u'parte', u'NC'), (u',', u'Fc'), (u'el', u'DA'), (u'Abogado', u'NC'), (u'General', u'AQ'), (u'de', u'SP'), (u'Victoria', u'NC'), (u',', u'Fc'), (u'Rob', u'NC'), (u'Hulls', u'AQ'), (u',', u'Fc'), (u'indic\\xf3', u'VMI'), (u'que', u'CS'), (u'no', u'RN'), (u'hay', u'VAI'), (u'nadie', u'PI'), (u'que', u'PR'), (u'controle', u'VMS'), (u'que', u'CS'), (u'las', u'DA'), (u'informaciones', u'NC'), (u'contenidas', u'AQ'), (u'en', u'SP'), (u'CrimeNet', u'NC'), (u'son', u'VSI'), (u'veraces', u'AQ'), (u'.', u'Fp')]\n"
     ]
    }
   ],
   "source": [
    "train_tagged_sents = conll2002.tagged_sents('esp.train')\n",
    "test_tagged_sents = conll2002.tagged_sents('esp.testa')\n",
    "\n",
    "print(train_tagged_sents[5])"
   ]
  },
  {
   "cell_type": "markdown",
   "metadata": {},
   "source": [
    "¿Qué sucedería si emplearamos los mismos datos para entrenar y para evaluar el modelo?"
   ]
  },
  {
   "cell_type": "markdown",
   "metadata": {},
   "source": [
    "## 1. DEFAULT TAGGER"
   ]
  },
  {
   "cell_type": "code",
   "execution_count": 7,
   "metadata": {},
   "outputs": [],
   "source": [
    "from nltk.tag import DefaultTagger"
   ]
  },
  {
   "cell_type": "code",
   "execution_count": 8,
   "metadata": {},
   "outputs": [
    {
     "name": "stdout",
     "output_type": "stream",
     "text": [
      "NC\n",
      "('Test', [('Hola', u'NC'), ('Mundo', u'NC')])\n",
      "('Default', 0.24178523515295808)\n"
     ]
    }
   ],
   "source": [
    "# Definimos cuál es el tag mas probable\n",
    "tags = [tag for (word, tag) in corpus_tagged_words]\n",
    "default_tag = nltk.FreqDist(tags).max()\n",
    "\n",
    "# Asignamos ese tag a cualquier token\n",
    "default_tagger = DefaultTagger(default_tag)\n",
    "\n",
    "print(default_tag)\n",
    "print(\"Test\", default_tagger.tag(['Hola', 'Mundo']))\n",
    "print(\"Default\", default_tagger.evaluate(test_tagged_sents))"
   ]
  },
  {
   "cell_type": "markdown",
   "metadata": {},
   "source": [
    "Aunque parezca trivial e innecesario, lo que acabamos de hacer nos va a ser útil en dos sentidos:  \n",
    "\n",
    "● Establecer un baseline a partir del cual juzgar la performance del resto de los taggers  \n",
    "● Como vamos a ver más adelante, si otro tagger no puede asignarle ningún tag a cierto token, es posible utilizar este default_tagger para que asigne el tag más probable del corpus."
   ]
  },
  {
   "cell_type": "markdown",
   "metadata": {},
   "source": [
    "# 2. REGEX TAGGER"
   ]
  },
  {
   "cell_type": "markdown",
   "metadata": {},
   "source": [
    "La clase RegexpTagger() toma como argumento una lista de tuplas, en la que el primer elemento de cada\n",
    "tupla es una expresión regular y el segundo elemento es el tag que se le va a asignar a las palabras que matchéen con ese pattern.  \n"
   ]
  },
  {
   "cell_type": "code",
   "execution_count": 10,
   "metadata": {},
   "outputs": [],
   "source": [
    "from nltk.tag import RegexpTagger\n",
    "\n",
    "patterns = [\n",
    " (r'.*ing$', 'VBG'),                # gerunds\n",
    " (r'.*ed$', 'VBD'),                 # simple past\n",
    " (r'.*es$', 'VBZ'),                 # 3rd singular present\n",
    " (r'.*ould$', 'MD'),                # modals\n",
    " (r'.*\\'s$', 'NN$'),                # possessive nouns\n",
    " (r'.*s$', 'NNS'),                  # plural nouns\n",
    " (r'^-?[0-9]+(.[0-9]+)?$', 'CD'),   # cardinal numbers\n",
    " (r'.*', 'NC')                      # nouns (default)\n",
    " ]\n",
    "\n",
    "'''\n",
    "patterns = [\n",
    " (ur'.*ción$', 'NC')\n",
    "]\n",
    "'''\n",
    "\n",
    "regexp_tagger = nltk.RegexpTagger(patterns)"
   ]
  },
  {
   "cell_type": "code",
   "execution_count": 11,
   "metadata": {},
   "outputs": [
    {
     "name": "stdout",
     "output_type": "stream",
     "text": [
      "[(u'La', 'NC'), (u'petici\\xf3n', 'NC'), (u'del', 'NC'), (u'Abogado', 'NC'), (u'General', 'NC'), (u'tiene', 'NC'), (u'lugar', 'NC'), (u'despu\\xe9s', 'NNS'), (u'de', 'NC'), (u'que', 'NC'), (u'un', 'NC'), (u'juez', 'NC'), (u'del', 'NC'), (u'Tribunal', 'NC'), (u'Supremo', 'NC'), (u'del', 'NC'), (u'estado', 'NC'), (u'de', 'NC'), (u'Victoria', 'NC'), (u'(', 'NC'), (u'Australia', 'NC'), (u')', 'NC'), (u'se', 'NC'), (u'viera', 'NC'), (u'forzado', 'NC'), (u'a', 'NC'), (u'disolver', 'NC'), (u'un', 'NC'), (u'jurado', 'NC'), (u'popular', 'NC'), (u'y', 'NC'), (u'suspender', 'NC'), (u'el', 'NC'), (u'proceso', 'NC'), (u'ante', 'NC'), (u'el', 'NC'), (u'argumento', 'NC'), (u'de', 'NC'), (u'la', 'NC'), (u'defensa', 'NC'), (u'de', 'NC'), (u'que', 'NC'), (u'las', 'NNS'), (u'personas', 'NNS'), (u'que', 'NC'), (u'lo', 'NC'), (u'compon\\xedan', 'NC'), (u'pod\\xedan', 'NC'), (u'haber', 'NC'), (u'obtenido', 'NC'), (u'informaci\\xf3n', 'NC'), (u'sobre', 'NC'), (u'el', 'NC'), (u'acusado', 'NC'), (u'a', 'NC'), (u'trav\\xe9s', 'NNS'), (u'de', 'NC'), (u'la', 'NC'), (u'p\\xe1gina', 'NC'), (u'CrimeNet', 'NC'), (u'.', 'NC')]\n",
      "('Regex tagger', 0.18322846399486045)\n"
     ]
    }
   ],
   "source": [
    "print(regexp_tagger.tag(corpus_sents[3]))\n",
    "print(\"Regex tagger\", regexp_tagger.evaluate(test_tagged_sents))"
   ]
  },
  {
   "cell_type": "markdown",
   "metadata": {},
   "source": [
    "# 3. AFFIX TAGGER"
   ]
  },
  {
   "cell_type": "markdown",
   "metadata": {},
   "source": [
    "El Affix tagger va a funcionar de manera similar al regexpTagger, solo que en vez de definir nosotros un conjunto de patterns, el tagger los va a aprender automáticamente basándose en afijos de una medida fija (uno, dos, tres, n caracteres), tanto al comienzo como al final de la palabra.  \n"
   ]
  },
  {
   "cell_type": "code",
   "execution_count": 12,
   "metadata": {},
   "outputs": [
    {
     "name": "stdout",
     "output_type": "stream",
     "text": [
      "('Affix tagger', 0.28762541806020064)\n"
     ]
    }
   ],
   "source": [
    "from nltk.tag import AffixTagger\n",
    "\n",
    "tagger = AffixTagger(train_tagged_sents)\n",
    "print(\"Affix tagger\", tagger.evaluate(test_tagged_sents))\n"
   ]
  },
  {
   "cell_type": "markdown",
   "metadata": {},
   "source": [
    "Parameters:  \n",
    "● affix_length – The length of the affixes that should be considered during training and tagging. Use negative numbers\n",
    "for suffixes. (default = -3)  \n",
    "● min_stem_length – Any words whose length is less than min_stem_length+abs(affix_length) will be assigned a tag of\n",
    "None by this tagger. (default = 2)  \n"
   ]
  },
  {
   "cell_type": "code",
   "execution_count": 13,
   "metadata": {},
   "outputs": [
    {
     "name": "stdout",
     "output_type": "stream",
     "text": [
      "('Affix tagger II', 0.2955425807304953)\n"
     ]
    }
   ],
   "source": [
    "suffix_tagger = AffixTagger(train_tagged_sents, affix_length=-2)\n",
    "print(\"Affix tagger II\", suffix_tagger.evaluate(test_tagged_sents))"
   ]
  },
  {
   "cell_type": "markdown",
   "metadata": {},
   "source": [
    "# 4. LOOKUP TAGGER"
   ]
  },
  {
   "cell_type": "code",
   "execution_count": 14,
   "metadata": {},
   "outputs": [
    {
     "name": "stdout",
     "output_type": "stream",
     "text": [
      "[u'de', u',', u'la', u'que', u'.', u'el', u'en', u'\"', u'y', u'a']\n"
     ]
    }
   ],
   "source": [
    "fd = nltk.FreqDist(corpus_words)\n",
    "cfd = nltk.ConditionalFreqDist(corpus_tagged_words)\n",
    "most_freq_words = [word for word, tag in fd.most_common(500)]\n",
    "print(most_freq_words[:10])"
   ]
  },
  {
   "cell_type": "markdown",
   "metadata": {},
   "source": [
    "Almacena el tag más usual para las n palabras más usuales.\n"
   ]
  },
  {
   "cell_type": "code",
   "execution_count": 15,
   "metadata": {},
   "outputs": [
    {
     "name": "stdout",
     "output_type": "stream",
     "text": [
      "('Look up', 0.6125692043157039)\n"
     ]
    }
   ],
   "source": [
    "likely_tags = dict((word, cfd[word].max()) for word in most_freq_words)\n",
    "lookup_tagger = nltk.UnigramTagger(model=likely_tags)\n",
    "print(\"Look up\", lookup_tagger.evaluate(test_tagged_sents))"
   ]
  },
  {
   "cell_type": "markdown",
   "metadata": {},
   "source": [
    "# 5. BACKOFF"
   ]
  },
  {
   "cell_type": "code",
   "execution_count": 16,
   "metadata": {},
   "outputs": [
    {
     "name": "stdout",
     "output_type": "stream",
     "text": [
      "[('Nunca', 'NC'), ('ser\\xc3\\xa9', 'NC'), ('polic\\xc3\\xada', 'NC')]\n",
      "('Look up', 0.7401507851028853)\n"
     ]
    }
   ],
   "source": [
    "backoff_tagger = nltk.UnigramTagger(model=likely_tags, backoff=regexp_tagger)\n",
    "\n",
    "#sent = corpus_sents[3]\n",
    "#sent = nltk.tokenize.word_tokenize(u'Nunca seré policía')\n",
    "sent = ['Nunca', 'seré', 'policía']\n",
    "print(backoff_tagger.tag(sent))\n",
    "print(\"Look up\", backoff_tagger.evaluate(test_tagged_sents))"
   ]
  },
  {
   "cell_type": "markdown",
   "metadata": {},
   "source": [
    "# Evaluación de los modelos\n",
    "\n",
    "### ¿Qué palabras tagueamos mal?"
   ]
  },
  {
   "cell_type": "code",
   "execution_count": 17,
   "metadata": {},
   "outputs": [
    {
     "name": "stdout",
     "output_type": "stream",
     "text": [
      "[(u'Melbourne', 'NC', u'NP'), (u'Australia', 'NC', u'NP'), (u'General', 'NC', u'AQ'), (u'Daryl', 'NC', u'VMI'), (u'Williams', 'NNS', u'NC'), (u'subray\\xf3', 'NC', u'VMI'), (u'tomar', 'NC', u'VMN'), (u'proteger', 'NC', u'VMN'), (u'judicial', 'NC', u'AQ'), (u'australiano', 'NC', u'AQ')]\n"
     ]
    }
   ],
   "source": [
    "def bad_tagged_words(tagger):\n",
    "    bad_tagged = []\n",
    "    test_tags = [(word, tag) for sent in corpus_sents for (word, tag) in tagger.tag(sent)]\n",
    "    gold_tags = [(word, tag) for sent in train_tagged_sents for (word, tag) in sent]\n",
    "    for i, item in enumerate(test_tags):\n",
    "        if item!=gold_tags[i]:\n",
    "            # palabra, predicted tag, expected tag\n",
    "            bad_tagged.append((item[0], item[1], gold_tags[i][1]))\n",
    "    return bad_tagged\n",
    "\n",
    "bad = bad_tagged_words(backoff_tagger)\n",
    "print(bad[:10])"
   ]
  },
  {
   "cell_type": "markdown",
   "metadata": {},
   "source": [
    "### ¿Qué palabras tagueamos mal con más frecuencia?"
   ]
  },
  {
   "cell_type": "code",
   "execution_count": 18,
   "metadata": {},
   "outputs": [
    {
     "name": "stdout",
     "output_type": "stream",
     "text": [
      "[(u'que', 2910), (u'lo', 141), (u'Jos\\xe9', 85), (u'Madrid', 70), (u'otros', 51), (u'pasado', 49), (u'tarde', 46), (u'Carlos', 45), (u'todo', 45), (u'/', 43), (u'autoridades', 43), (u'Central', 43), (u'18', 43), (u'algunas', 43), (u'propio', 43), (u'LA', 42), (u'todav\\xeda', 42), (u'cuya', 42), (u'responsables', 42), (u'hecho', 42)]\n"
     ]
    }
   ],
   "source": [
    "from collections import Counter\n",
    "bad_tagged_words = [i[0] for i in bad]\n",
    "counter = Counter(bad_tagged_words)\n",
    "sorted_counter = sorted(counter.items(), key=lambda kv: kv[1], reverse=True)\n",
    "print(sorted_counter[:20])"
   ]
  },
  {
   "cell_type": "markdown",
   "metadata": {},
   "source": [
    "### Matriz de confusión"
   ]
  },
  {
   "cell_type": "code",
   "execution_count": null,
   "metadata": {},
   "outputs": [],
   "source": [
    "#import seaborn as sn\n",
    "#import pandas as pd\n",
    "#import matplotlib.pyplot as plt\n",
    "#import sklearn as skl\n",
    "\n",
    "selectedTags = [i for i,j in nltk.FreqDist(tags).most_common(15)]\n",
    "def confusion_matrix(tagger):\n",
    "    test_tags = [tag for sent in corpus_sents for (word, tag) in tagger.tag(sent)]\n",
    "    gold_tags = [tag for (word, tag) in corpus_tagged_words]\n",
    "    labels = set(gold_tags)\n",
    "    cm = skl.metrics.confusion_matrix(gold_tags, test_tags, \n",
    "                                     labels=selectedTags)\n",
    "    cm = cm / cm.astype(np.float).sum(axis=1)\n",
    "    return cm\n",
    "\n",
    "#cm = confusion_matrix(backoff_tagger)\n",
    "#df_cm = pd.DataFrame(cm, index = selectedTags, columns = selectedTags)\n",
    "#plt.figure(figsize = (7,7))\n",
    "#sn.heatmap(df_cm, annot=False, cmap=plt.cm.Blues)\n",
    "#plt.show()"
   ]
  },
  {
   "cell_type": "markdown",
   "metadata": {
    "scrolled": true
   },
   "source": [
    "![alt text](heatmap.png)"
   ]
  },
  {
   "cell_type": "markdown",
   "metadata": {},
   "source": [
    "¿Cuál es el límite teórico de un look-up tagger, considerando un corpus que contenga todas las posibles ocurrencias de un\n",
    "lenguaje?  \n",
    "\n",
    "a. En el juego de la vida vos podés triunfar.  \n",
    "b. Juego al futbol todos los martes.  \n",
    "c. Como agua para chocolate.  \n",
    "d. Me como una pizza entera.  "
   ]
  },
  {
   "cell_type": "code",
   "execution_count": 19,
   "metadata": {},
   "outputs": [
    {
     "name": "stdout",
     "output_type": "stream",
     "text": [
      "Displaying 25 of 25 matches:\n",
      "n unánimes los juicios favorables al juego desarrollado por el equipo ganador ,\n",
      " fue \" soberbio \" por la calidad del juego y un estadio divido entre las dos af\n",
      "l que dicen los diarios no mostró se juego brillante que hizo contra el Barcelo\n",
      "dondo y McManaman . Tras destacar el juego de Raul , \" La Gazzetta dello Sport \n",
      "te torneo para pulir sus esquemas de juego y analizar la situación de sus jugad\n",
      " , Azócar pegó un cuadrangular en el juego que perdió Oaxaca por 14-9 ante Pueb\n",
      "identa del comité organizador de los juego olímpicos de Atenas 2004 , Miki Tzav\n",
      "ión en el lenguaje , pero también un juego divertido \" y para la quebequesa Dor\n",
      "ka \" es sencilla \" : \" jugar nuestro juego e intentar ganar y si yo marco o no \n",
      "midos y no han podido desarrollar el juego que llevan dentro . Además , quiero \n",
      " va a dejar la piel en el terreno de juego defendiendo los colores . El que no \n",
      "recalcó la importancia del trofeo en juego . \" Ganar la Copa no es una disculpa\n",
      "a a nuestra temporada , pero está en juego el título , el prestigio del club y \n",
      "l , por estatura , peso y fórmula de juego \" , explicó López Chandro . Tordesil\n",
      "l \" el equipo mejoró en actitud y en juego , pero el Villarreal sabía que el as\n",
      " todavía no ha alcanzado su nivel de juego después de recuperarse de su lesión \n",
      "a . Tenemos que cuidar el terreno de juego que nos ha costado mucho tenerlo en \n",
      "e las protestas de la afición por el juego mostrado frente al Celta . En primer\n",
      "ques , trabajan mucho en el campo de juego y así es muy difícil ganarles \" , re\n",
      "eptación inequívoca de las reglas de juego democráticos \" , \" renuncia expresa \n",
      "la citada mesa acaten las reglas del juego democrático y renuncien expresamente\n",
      " en el túnel de acceso al terreno de juego . Cada uno habló con su grupo durant\n",
      "eptación inequívoca de las reglas de juego democráticos \" , \" renuncia expresa \n",
      "la citada mesa acaten las reglas del juego democrático y renuncien expresamente\n",
      "e tenga una noción de lo que está en juego . Incluso porque este conflicto pued\n",
      "None\n"
     ]
    }
   ],
   "source": [
    "from nltk.text import Text\n",
    "my_text = Text(corpus_words)\n",
    "concordance = my_text.concordance('juego')\n",
    "print(concordance)"
   ]
  },
  {
   "cell_type": "markdown",
   "metadata": {},
   "source": [
    "# Performance del look-up tagger con diferentes tamaños de diccionario"
   ]
  },
  {
   "cell_type": "code",
   "execution_count": 20,
   "metadata": {},
   "outputs": [],
   "source": [
    "def performance(cfd, wordlist):\n",
    "    lt = dict((word, cfd[word].max()) for word in wordlist)\n",
    "    baseline_tagger = nltk.UnigramTagger(model=lt, backoff=nltk.DefaultTagger('NN'))\n",
    "    return backoff_tagger.evaluate(train_tagged_sents)\n",
    "\n",
    "def display():\n",
    "    import pylab\n",
    "    #Distribución de frecuencias de las palabras\n",
    "    freq_dist = nltk.FreqDist(corpus_words)\n",
    "    #Muestra la distribución de tags para cada palabra\n",
    "    cfd = nltk.ConditionalFreqDist(corpus_tagged_words)\n",
    "    sizes = 2 ** pylab.arange(16)\n",
    "    perfs = [performance(cfd, [x[0] for x in freq_dist.most_common(size)]) for size in sizes]\n",
    "    pylab.plot(sizes, perfs, '-bo')\n",
    "    pylab.title('Performance del Look-up tagger')\n",
    "    pylab.xlabel('Size')\n",
    "    pylab.ylabel('Performance')\n",
    "    pylab.show()\n",
    "\n",
    "#display()"
   ]
  },
  {
   "cell_type": "markdown",
   "metadata": {},
   "source": [
    "![alt text](lookup.jpg)"
   ]
  },
  {
   "cell_type": "markdown",
   "metadata": {},
   "source": [
    "# N-gramas\n",
    "\n",
    "Un n-grama es un subsecuencia de n items. En ese sentido, la clase de NLTK BigramTagger va a mirar dos items (la palabra que queremos taguear y la anterior), mientras que la clase TrigrammTagger va a decidir qué tag asignar teniendo en cuenta tres items. Estos dos taggers van a ser buenos lidiando con una de las características que tienen los lenguajes naturales, el hecho de que el postag de una palabra depende del contexto en que esa palabra se encuentre.\n",
    "\n",
    "Muchas palabras tienen diferentes postags de acuerdo a cómo sean usadas, como en el ejemplo que vimos más arriba de 'juego' que puede ser utilizada tanto como nombre común (su acepción más usual en nuestro corpus) y como verbo presente en primera persona del singular.\n",
    "\n",
    "La idea detrás de los taggers de n-gramas es que mirando las palabras previas a la palabra target podemos inferir con mayor precisión cuál es el tag adecuado que debemos asignar."
   ]
  },
  {
   "cell_type": "markdown",
   "metadata": {},
   "source": [
    "# 6. UNIGRAM TAGGER"
   ]
  },
  {
   "cell_type": "code",
   "execution_count": 21,
   "metadata": {},
   "outputs": [
    {
     "name": "stdout",
     "output_type": "stream",
     "text": [
      "[(u'El', u'DA'), (u'perro', None), (u'me', u'PP'), (u'mordi\\xf3', None), (u'fiero', None)]\n",
      "('Unigram', 0.8720971978156945)\n",
      "[(u'El', u'DA'), (u'perro', u'NC'), (u'me', u'PP'), (u'mordi\\xf3', u'NC'), (u'fiero', u'NC')]\n",
      "('Unigram con backoff', 0.9030667195737203)\n"
     ]
    }
   ],
   "source": [
    "from nltk.tag import UnigramTagger\n",
    "\n",
    "unitagger = UnigramTagger(train_tagged_sents)\n",
    "print(unitagger.tag(word_tokenize(u'El perro me mordió fiero')))\n",
    "print(\"Unigram\", unitagger.evaluate(test_tagged_sents))\n",
    "\n",
    "# WITH BACKOFF\n",
    "unitagger = UnigramTagger(train_tagged_sents, backoff=default_tagger)\n",
    "print(unitagger.tag(word_tokenize(u'El perro me mordió fiero')))\n",
    "print(\"Unigram con backoff\", unitagger.evaluate(test_tagged_sents))"
   ]
  },
  {
   "cell_type": "markdown",
   "metadata": {},
   "source": [
    "# 7. BIGRAM & TRIGRAM TAGGERS"
   ]
  },
  {
   "cell_type": "code",
   "execution_count": 22,
   "metadata": {},
   "outputs": [
    {
     "name": "stdout",
     "output_type": "stream",
     "text": [
      "('Bigram', 0.2264232942199044)\n",
      "('Trigram', 0.16926478090811178)\n"
     ]
    }
   ],
   "source": [
    "from nltk.tag import BigramTagger, TrigramTagger\n",
    "\n",
    "bitagger = BigramTagger(train_tagged_sents)\n",
    "print(\"Bigram\", bitagger.evaluate(test_tagged_sents))\n",
    "\n",
    "tritagger = TrigramTagger(train_tagged_sents)\n",
    "print(\"Trigram\", tritagger.evaluate(test_tagged_sents))"
   ]
  },
  {
   "cell_type": "markdown",
   "metadata": {},
   "source": [
    "Sparse data problem  \n",
    "● ¿Por qué baja la accuracy?  \n",
    "● ¿Qué pasa cuando no puede taguear una palabra nueva?  \n"
   ]
  },
  {
   "cell_type": "code",
   "execution_count": 23,
   "metadata": {},
   "outputs": [
    {
     "name": "stdout",
     "output_type": "stream",
     "text": [
      "[(u'Fue', u'VSI'), (u'a', u'SP'), (u'la', u'DA'), (u'guerra', u'NC')]\n",
      "[(u'Superman', None), (u'fue', None), (u'a', None), (u'la', None), (u'guerra', None)]\n"
     ]
    }
   ],
   "source": [
    "sentence = nltk.tokenize.word_tokenize(u'Fue a la guerra')\n",
    "sentence2 = nltk.tokenize.word_tokenize(u'Superman fue a la guerra')\n",
    "\n",
    "print(bitagger.tag(sentence))\n",
    "print(bitagger.tag(sentence2))"
   ]
  },
  {
   "cell_type": "markdown",
   "metadata": {},
   "source": [
    "# MORE BACKOFF"
   ]
  },
  {
   "cell_type": "code",
   "execution_count": 24,
   "metadata": {},
   "outputs": [
    {
     "name": "stdout",
     "output_type": "stream",
     "text": [
      "('More backoff', 0.9030667195737203)\n"
     ]
    }
   ],
   "source": [
    "def more_backoff(train_tagged_sents, tagger_classes, backoff=None):\n",
    "    for cls in tagger_classes:\n",
    "        backoff = cls(train_tagged_sents, backoff=backoff)\n",
    "        return backoff\n",
    "\n",
    "backoff_tagger = more_backoff(train_tagged_sents, [UnigramTagger, BigramTagger, TrigramTagger], backoff=default_tagger)\n",
    "print(\"More backoff\", backoff_tagger.evaluate(test_tagged_sents))"
   ]
  },
  {
   "cell_type": "markdown",
   "metadata": {},
   "source": [
    "# Todos somos héroes anónimos"
   ]
  },
  {
   "cell_type": "code",
   "execution_count": 25,
   "metadata": {},
   "outputs": [
    {
     "name": "stdout",
     "output_type": "stream",
     "text": [
      "('Anon tagger', 0.9097367874081213)\n"
     ]
    }
   ],
   "source": [
    "def anonimize_NP(corpus):\n",
    "    ANONYMOUS = \"anonymous\"\n",
    "    new = []\n",
    "    for s in corpus:\n",
    "        for i, (w, tag) in enumerate(s):\n",
    "            if tag == u\"NP\":  # NP = proper noun in Parole tagset.\n",
    "                s[i] = (ANONYMOUS, u\"NP\")\n",
    "        new.append(s)\n",
    "    return new\n",
    "\n",
    "anon_train_tagged_sents = anonimize_NP(train_tagged_sents)\n",
    "anon_test_tagged_sents = anonimize_NP(test_tagged_sents)\n",
    "\n",
    "anon_tagger = more_backoff(anon_train_tagged_sents, [UnigramTagger, BigramTagger, TrigramTagger], backoff=default_tagger)\n",
    "print(\"Anon tagger\", anon_tagger.evaluate(anon_test_tagged_sents))"
   ]
  },
  {
   "cell_type": "markdown",
   "metadata": {},
   "source": [
    "# Escritura automática a partir de bigramas"
   ]
  },
  {
   "cell_type": "code",
   "execution_count": null,
   "metadata": {},
   "outputs": [],
   "source": [
    "from nltk.corpus import PlaintextCorpusReader\n",
    "from random import choice\n",
    "import os\n",
    "\n",
    "\n",
    "def max_model(cfdist, word, num=15):\n",
    "    autotext = \"\"\n",
    "    for i in range(num):\n",
    "        autotext += word + \" \"\n",
    "        word = cfdist[word].max()\n",
    "    return autotext\n",
    "\n",
    "\n",
    "def choice_model(cfdist, word, num=15):\n",
    "    autotext = \"\"\n",
    "    for i in range(num):\n",
    "        autotext += word + \" \"\n",
    "        wordlist = list(cfdist[word])\n",
    "        #print(wordlist)\n",
    "        word = choice(wordlist)\n",
    "    return autotext\n",
    "\n",
    "\n",
    "def poem(text, cfd, model, lines=10, num=10):\n",
    "    poem = ''\n",
    "    for i in range(lines):\n",
    "        word = choice(text)\n",
    "        autotext = model(cfd, word, num)\n",
    "        poem += autotext + '\\n'\n",
    "    return poem\n",
    "\n",
    "corpus = PlaintextCorpusReader(os.getcwd(), \"[a-zA-Z0-9]*.txt\")\n",
    "text = corpus.words('martinfierro.txt')\n",
    "bigrams = nltk.bigrams(text)\n",
    "cfd = nltk.ConditionalFreqDist(bigrams)\n",
    "autotext1 = max_model(cfd, 'Cuando')\n",
    "autotext2 = choice_model(cfd,\"Cuando\")\n",
    "\n",
    "print(autotext1)\n",
    "print('\\n')\n",
    "print(poem(text, cfd, max_model))\n",
    "print('\\n')\n",
    "print(poem(text, cfd, choice_model))\n"
   ]
  },
  {
   "cell_type": "markdown",
   "metadata": {},
   "source": [
    "# Pickles"
   ]
  },
  {
   "cell_type": "markdown",
   "metadata": {},
   "source": [
    "<img src=\"rick.png\" alt=\"Drawing\" style=\"width: 200px;\"/>\n",
    "\n",
    "Pickles es un módulo de python que nos permite serializar objetos, es decir, guardar en un archivo cualquier objeto que hayamos instanciado en python.\n",
    "\n",
    "Los taggers que vienen a continuación requieren un entrenamiento, por lo que vamos a tardar bastante tiempo en generar el tagger. Por eso, una vez entrenados resulta conveniente almacenarlos en un archivo usando pickle, para poder reutilizarlos posteriormente sin necesidad de re-entrenarlos.\n",
    "\n",
    "Tiene dos métodos básicos: dump() para guardar un objeto en un archivo y load() para cargarlo."
   ]
  },
  {
   "cell_type": "code",
   "execution_count": 27,
   "metadata": {},
   "outputs": [
    {
     "name": "stdout",
     "output_type": "stream",
     "text": [
      "Nunca seré policía, de provincia ni de capital\n"
     ]
    }
   ],
   "source": [
    "import pickle\n",
    "\n",
    "dummyVariable = \"Nunca seré policía, de provincia ni de capital\"\n",
    "# Serializo el objeto dummyVariable\n",
    "pickle.dump(dummyVariable, open(\"fuck.p\", \"wb\"))\n",
    "\n",
    "# Lo cargo en una nueva variable\n",
    "loadVariable = pickle.load(open(\"fuck.p\", \"rb\"))\n",
    "print(loadVariable)"
   ]
  },
  {
   "cell_type": "markdown",
   "metadata": {},
   "source": [
    "# 8. BRILL TAGGER"
   ]
  },
  {
   "cell_type": "markdown",
   "metadata": {},
   "source": [
    "El Brill tagger es un método inductivo para taggear. Fue desarrollado en 1993 por Eric Brill en su tesis de doctorado (https://dl.acm.org/citation.cfm?doid=974499.974526). <br>\n",
    "\n",
    "Puede ser descripto como un tagger transformacional basado en minimizar la cantidad de errores. Vendría a ser una forma de aprendizaje supervisado que intenta minimizar el error a partir de un proceso transformacional, en el sentido de que cada tag es asignado a cada palabra y luego es revisado (y potencialmente cambiado) a partir de un set de reglas predefinidas que fueron inferidas del corpus. <br>\n",
    "\n",
    "Aplicando iterativamente estas reglas, modificando los tags incorrectos, logra aumentar la precisión de cualquiera de los tags que vimos anteriormente. Las reglas que genera automáticamente permiten inferir información valiosa, como son las reglas morfosintácticas de combinación de las palabras, que luego son utilizadas en el proceso de tagueo.\n",
    "\n",
    "Es decir que, una vez que a cada palabra se le ha asignado un tag provisional, una serie de reglas contextuales son aplicadas iterativamente, con el objetivo de \"corregir\" tags erroneos, a partir del exámen de pequeñas cantidades de contexto.\n",
    "\n",
    "tag1 → tag2 IF Condition\n",
    "1. Utiliza otro tagger para asignarle tags provisorios a cada palabra.  \n",
    "2. Aplica iterativamente reglas basadas en el contexto.  \n",
    "3. A cada regla se le asigna un puntaje (errores que corrige - errores que produce).  \n",
    "4. Se queda con las reglas que maximizan la performance del tagger.\n",
    "5. Las aplica a todo el análisis.  \n",
    "\n",
    "Utiliza dos argumentos:  \n",
    "● Tagger  \n",
    "● Lista de templates\n",
    "\n"
   ]
  },
  {
   "cell_type": "code",
   "execution_count": 28,
   "metadata": {},
   "outputs": [
    {
     "name": "stdout",
     "output_type": "stream",
     "text": [
      "\n",
      "\n",
      "\n",
      "PR -> CS if the Pos of words i-2...i-1 is \"VMI\"\n",
      "PR -> CS if the Pos of the following word is \"SP\"\n",
      "PR -> CS if the Pos of the following word is \"Fe\"\n",
      "AQ -> VMP if the Pos of the preceding word is \"VAI\"\n",
      "DA -> PP if the Pos of the following word is \"VMI\"\n",
      "PR -> CS if the Pos of the preceding word is \"SP\", and the Pos of the following word is \"DA\"\n",
      "DI -> PI if the Pos of the following word is \"SP\"\n",
      "PR -> CS if the Pos of the preceding word is \"CS\"\n",
      "PR -> CS if the Pos of the preceding word is \"RG\"\n",
      "NP -> NC if the Pos of words i-2...i-1 is \"SP\"\n",
      "AQ -> NC if the Pos of the preceding word is \"SP\", and the Pos of the following word is \"AQ\"\n",
      "DN -> PN if the Pos of the following word is \"SP\"\n",
      "PR -> CS if the Pos of the following word is \"VMN\"\n",
      "PR -> CS if the Pos of the preceding word is \"VMN\"\n",
      "DI -> PI if the Pos of the following word is \"Fc\"\n",
      "AQ -> NC if the Pos of the preceding word is \"Fc\", and the Pos of the following word is \"AQ\"\n",
      "AQ -> NC if the Pos of the preceding word is \"DA\", and the Pos of the following word is \"AQ\"\n",
      "CS -> PR if the Pos of the preceding word is \"RG\", and the Pos of the following word is \"VMI\"\n",
      "AQ -> NC if the Pos of the preceding word is \"DA\", and the Pos of the following word is \"Z\"\n",
      "PR -> CS if the Pos of the following word is \"DP\"\n",
      "\n",
      "\n",
      "\n",
      "{'min_score': 2, 'finalacc': 0.9729444874676539, 'min_acc': None, 'tokencount': 264715, 'initialacc': 0.9616077668435865, 'templatecount': 18, 'sequencecount': 8323, 'initialerrors': 10163, 'finalerrors': 7162, 'rulescores': [1440, 214, 131, 129, 127, 130, 104, 95, 86, 80, 78, 67, 64, 57, 44, 34, 33, 32, 29, 27]}\n",
      "\n",
      "\n",
      "\n",
      "('Brill tagger', 0.9122687678325114)\n"
     ]
    }
   ],
   "source": [
    "from nltk.tag import brill, brill_trainer\n",
    "\n",
    "def train_brill_tagger(initial_tagger, train_sents, **kwargs):\n",
    "    templates = [\n",
    "        brill.Template(brill.Pos([-1])),\n",
    "        brill.Template(brill.Pos([1])),\n",
    "        brill.Template(brill.Pos([-2])),\n",
    "        brill.Template(brill.Pos([2])),\n",
    "        brill.Template(brill.Pos([-2, -1])),\n",
    "        brill.Template(brill.Pos([1, 2])),\n",
    "        brill.Template(brill.Pos([-3, -2, -1])),\n",
    "        brill.Template(brill.Pos([1, 2, 3])),\n",
    "        brill.Template(brill.Pos([-1]), brill.Pos([1])),\n",
    "        brill.Template(brill.Word([-1])),\n",
    "        brill.Template(brill.Word([1])),\n",
    "        brill.Template(brill.Word([-2])),\n",
    "        brill.Template(brill.Word([2])),\n",
    "        brill.Template(brill.Word([-2, -1])),\n",
    "        brill.Template(brill.Word([1, 2])),\n",
    "        brill.Template(brill.Word([-3, -2, -1])),\n",
    "        brill.Template(brill.Word([1, 2, 3])),\n",
    "        brill.Template(brill.Word([-1]), brill.Word([1])),\n",
    "    ]\n",
    "    trainer = brill_trainer.BrillTaggerTrainer(initial_tagger, templates, deterministic=True, trace=True)\n",
    "\n",
    "    return trainer.train(train_sents, max_rules=20, **kwargs)\n",
    "\n",
    "initial_tagger = more_backoff(train_tagged_sents, [UnigramTagger, BigramTagger, TrigramTagger], backoff=default_tagger)\n",
    "#BrillTagger = train_brill_tagger(initial_tagger, train_tagged_sents)\n",
    "#pickle.dump(BrillTagger, open(\"BrillTagger.p\", \"wb\"))\n",
    "BrillTagger = pickle.load(open(\"BrillTagger.p\", \"rb\"))\n",
    "\n",
    "print(\"\\n\\n\")\n",
    "for rule in BrillTagger.rules(): print(str(rule.format('verbose')).encode('utf-8'))\n",
    "print(\"\\n\\n\")\n",
    "print(BrillTagger.train_stats())\n",
    "print(\"\\n\\n\")\n",
    "print(\"Brill tagger\", BrillTagger.evaluate(test_tagged_sents))"
   ]
  },
  {
   "cell_type": "markdown",
   "metadata": {},
   "source": [
    "# Taggers basados en clasificadores automáticos"
   ]
  },
  {
   "cell_type": "markdown",
   "metadata": {},
   "source": [
    "El postagging puede ser entendido como un problema de clasificación, en el que debemos clasificar ciertos inputs (tokens) entre una lista de categorías posibles (tags). Para automatizar esta clasificación podemos valernos de modelos estadísticos. Estos van a predecir las probabilidades de cada tag para cada uno de los inputs a partir de un conjunto de variables independientes que nosotros definamos.\n",
    "\n",
    "2 componentes:  \n",
    "● Feature extractor  \n",
    "● Machine learning algorithm  \n",
    "\n",
    "Clasificación supervisada:  \n",
    "● Asigna una etiqueta para determinado input  \n",
    "● Basándose en un corpora de entrenamiento que contiene las etiquetas correctas. \n",
    "\n",
    "![alt text](1.jpg)\n"
   ]
  },
  {
   "cell_type": "code",
   "execution_count": null,
   "metadata": {},
   "outputs": [],
   "source": [
    "# Este es el source code de NLTK, vamos a intentar leer la función de feature_detector que utiliza:\n",
    "\n",
    "from nltk.tag.sequential import ClassifierBasedTagger\n",
    "\n",
    "class ClassifierBasedPOSTagger(ClassifierBasedTagger):\n",
    "    \"\"\"\n",
    "    A classifier based part of speech tagger.\n",
    "    \"\"\"\n",
    "\n",
    "    def feature_detector(self, tokens, index, history):\n",
    "        word = tokens[index]\n",
    "        if index == 0:\n",
    "            prevword = prevprevword = None\n",
    "            prevtag = prevprevtag = None\n",
    "        elif index == 1:\n",
    "            prevword = tokens[index-1].lower()\n",
    "            prevprevword = None\n",
    "            prevtag = history[index-1]\n",
    "            prevprevtag = None\n",
    "        else:\n",
    "            prevword = tokens[index-1].lower()\n",
    "            prevprevword = tokens[index-2].lower()\n",
    "            prevtag = history[index-1]\n",
    "            prevprevtag = history[index-2]\n",
    "\n",
    "        if re.match('[0-9]+(\\.[0-9]*)?|[0-9]*\\.[0-9]+$', word):\n",
    "            shape = 'number'\n",
    "        elif re.match('\\W+$', word):\n",
    "            shape = 'punct'\n",
    "        elif re.match('[A-Z][a-z]+$', word):\n",
    "            shape = 'upcase'\n",
    "        elif re.match('[a-z]+$', word):\n",
    "            shape = 'downcase'\n",
    "        elif re.match('\\w+$', word):\n",
    "            shape = 'mixedcase'\n",
    "        else:\n",
    "            shape = 'other'\n",
    "\n",
    "        features = {\n",
    "            'prevtag': prevtag,\n",
    "            'prevprevtag': prevprevtag,\n",
    "            'word': word,\n",
    "            'word.lower': word.lower(),\n",
    "            'suffix3': word.lower()[-3:],\n",
    "            'suffix2': word.lower()[-2:],\n",
    "            'suffix1': word.lower()[-1:],\n",
    "            'prevprevword': prevprevword,\n",
    "            'prevword': prevword,\n",
    "            'prevtag+word': '%s+%s' % (prevtag, word.lower()),\n",
    "            'prevprevtag+word': '%s+%s' % (prevprevtag, word.lower()),\n",
    "            'prevword+word': '%s+%s' % (prevword, word.lower()),\n",
    "            'shape': shape,\n",
    "            }\n",
    "        return features"
   ]
  },
  {
   "cell_type": "markdown",
   "metadata": {},
   "source": [
    "# 9. Naive Bayes Classiffier"
   ]
  },
  {
   "cell_type": "markdown",
   "metadata": {},
   "source": [
    "Este clasificador 'ingenuo' se basa en el teorema de Bayes:\n",
    "\n",
    "![alt text](bayes.jpeg)\n",
    "\n",
    "1. Calcula la probabilidad previa de cada tag, chequeando la etiqueta de cada uno en el corpus de entrenamiento.  \n",
    "2. Cada rasgo contribuye “votando en contra” de aquellas etiquetas que no co-ocurren con él.  \n",
    "\n",
    "<center>P(features, label) = P(label) × P(features|label)</center>\n",
    "\n",
    "![alt text](5.jpg)\n"
   ]
  },
  {
   "cell_type": "code",
   "execution_count": 29,
   "metadata": {},
   "outputs": [
    {
     "name": "stdout",
     "output_type": "stream",
     "text": [
      "('Bayes Classifier', 0.9241161687735011)\n"
     ]
    }
   ],
   "source": [
    "from nltk.tag.sequential import ClassifierBasedPOSTagger\n",
    "\n",
    "#NaiveBayesTagger = ClassifierBasedPOSTagger(train=train_tagged_sents)\n",
    "#pickle.dump(NaiveBayesTagger, open(\"NaiveBayesTagger.p\", \"wb\"))\n",
    "NaiveBayesTagger = pickle.load(open(\"NaiveBayesTagger.p\", \"rb\"))\n",
    "print(\"Bayes Classifier\", NaiveBayesTagger.evaluate(test_tagged_sents))"
   ]
  },
  {
   "cell_type": "markdown",
   "metadata": {},
   "source": [
    "## Conclusión:  \n",
    "\n",
    "●Los taggers basados en clasificadores automáticos son los que tienen mejor performance, pero también son los más lentos.  \n",
    "●Si necesitamos un modulo rápido, lo mejor es usar un Bril Tagger precedido por una cadena de taggers basados en n-gramas.  \n",
    "\n",
    "--> Brill tagger es un modelo más robusto y económico.\n"
   ]
  },
  {
   "cell_type": "markdown",
   "metadata": {},
   "source": [
    "El desarrollo de taggers tuvo un rol central en el crecimiento de los enfoques estadísticos en el procesamiento del lenguaje natural.  \n",
    "En los comienzos de la década de los 90' la performance de los taggers estadísticos brindó una prueba certera de que se podía resolver al menos una pequeña porción del entendimiento linguistico sin necesidad de acceder a un conocimiento más profundo de la estructura gramatical como es la sintaxis.\n"
   ]
  },
  {
   "cell_type": "markdown",
   "metadata": {},
   "source": [
    "# Lematización\n",
    "\n",
    "Lematizar es asignarle a cada palabra su forma de diccionario. Al igual que sucede con los algoritmos de stemming, es un proceso sumamente util para reducir la dimensionalidad de los datos y así mejorar tanto la eficiencia y como la eficacia de cualquier algoritmo de más alto nivel (un clasificador, por ejemplo).\n",
    "\n",
    "Una vez que tenemos la clase de palabra de cada forma léxica, si contamos con un diccionario de formas y lemmas posibles (como el que nos provee freeling ;) ) lematizar se convierte en algo bastante trivial.\n",
    "\n",
    "En el archivo dicc.src tenemos el diccionario de Freeling. Está organizado de esta manera:\n",
    "\n",
    "promedio promediar VMIP1S0 promedio NCMS000 <br>\n",
    "que que CS que PR0CN000 <br>\n",
    "no no NCMS000 no RN <br>\n",
    "noble noble AQ0CS0 noble NCCS000 <br>\n",
    "\n",
    "El primer ítem es una forma léxica. A partir de ahí puede haber cualquier cantidad de pares lemma/tag, tantos como posibles tags tenga la palabra.\n",
    "\n",
    "[Acá](/edit/lematizador.py) está el código de un lematizador bastante trivial que armé. Lo que hace es taguear el texto que querramos lematizar y luego buscar en el diccionario de freeling a qué lemma de esa forma léxica le corresponde ese tag. Para que la búsqueda sea más rápida, convertimos el archivo de texto en un diccionario de python y lo guardé en el archivo freeling_dicc.p"
   ]
  },
  {
   "cell_type": "code",
   "execution_count": 30,
   "metadata": {},
   "outputs": [],
   "source": [
    "from lematizador import Lemmatizer\n",
    "\n",
    "myLemmatizer = Lemmatizer(NaiveBayesTagger, debug=True)\n",
    "myLemmatizer.build_dicc()"
   ]
  },
  {
   "cell_type": "code",
   "execution_count": 31,
   "metadata": {},
   "outputs": [
    {
     "name": "stdout",
     "output_type": "stream",
     "text": [
      "nunca\n",
      "Pares de lemma/tag posibles:\n",
      "[(u'nunca', u'RG')]\n",
      "Tag elegido:\n",
      "RG\n",
      "\n",
      "\n",
      "te\n",
      "Pares de lemma/tag posibles:\n",
      "[(u'te', u'P02CS000'), (u'te', u'PP2CS000')]\n",
      "Tag elegido:\n",
      "PP2CS000\n",
      "\n",
      "\n",
      "las\n",
      "Pares de lemma/tag posibles:\n",
      "[(u'el', u'DA0FP0'), (u'la', u'NCMP000'), (u'lo', u'PP3FPA00')]\n",
      "Tag elegido:\n",
      "DA0FP0\n",
      "\n",
      "\n",
      "calles\n",
      "Pares de lemma/tag posibles:\n",
      "[(u'callar', u'VMSP2S0'), (u'calle', u'NCFP000')]\n",
      "Tag elegido:\n",
      "NCFP000\n",
      "\n",
      "\n",
      "de\n",
      "Pares de lemma/tag posibles:\n",
      "[(u'de', u'NCFS000'), (u'de', u'SPS00')]\n",
      "Tag elegido:\n",
      "SPS00\n",
      "\n",
      "\n",
      "buenos\n",
      "Pares de lemma/tag posibles:\n",
      "[(u'bueno', u'AQ0MP0')]\n",
      "Tag elegido:\n",
      "AQ0MP0\n",
      "\n",
      "\n",
      "aires\n",
      "Pares de lemma/tag posibles:\n",
      "[(u'aire', u'NCMP000')]\n",
      "Tag elegido:\n",
      "NCMP000\n",
      "\n",
      "\n",
      "tienen\n",
      "Pares de lemma/tag posibles:\n",
      "[(u'tener', u'VMIP3P0')]\n",
      "Tag elegido:\n",
      "VMIP3P0\n",
      "\n",
      "\n",
      "esas\n",
      "Pares de lemma/tag posibles:\n",
      "[(u'ese', u'DD0FP0'), (u'ese', u'PD0FP000')]\n",
      "Tag elegido:\n",
      "DD0FP0\n",
      "\n",
      "\n",
      "casas\n",
      "Pares de lemma/tag posibles:\n",
      "[(u'casa', u'NCFP000'), (u'casar', u'VMIP2S0')]\n",
      "Tag elegido:\n",
      "NCFP000\n",
      "\n",
      "\n",
      "azules\n",
      "Pares de lemma/tag posibles:\n",
      "[(u'azul', u'AQ0CP0'), (u'azul', u'NCMP000'), (u'azular', u'VMSP2S0')]\n",
      "Tag elegido:\n",
      "AQ0CP0\n",
      "\n",
      "\n"
     ]
    },
    {
     "data": {
      "text/plain": [
       "[[(u'nunca', u'nunca'),\n",
       "  (u'te', u'te'),\n",
       "  (u'cre\\xed', u'cre\\xed'),\n",
       "  (u'.', u'.')],\n",
       " [(u'las', u'el'),\n",
       "  (u'calles', u'calle'),\n",
       "  (u'de', u'de'),\n",
       "  (u'buenos', u'bueno'),\n",
       "  (u'aires', u'aire'),\n",
       "  (u'tienen', u'tener'),\n",
       "  (u'esas', u'ese'),\n",
       "  (u'casas', u'casa'),\n",
       "  (u'azules', u'azul'),\n",
       "  (u'.', u'.')]]"
      ]
     },
     "execution_count": 31,
     "metadata": {},
     "output_type": "execute_result"
    }
   ],
   "source": [
    "sample = u\"Nunca te creí. Las calles de Buenos Aires tienen esas casas azules.\"\n",
    "myLemmatizer.process(sample)"
   ]
  },
  {
   "cell_type": "code",
   "execution_count": null,
   "metadata": {},
   "outputs": [],
   "source": []
  }
 ],
 "metadata": {
  "kernelspec": {
   "display_name": "Python 3",
   "language": "python",
   "name": "python3"
  },
  "language_info": {
   "codemirror_mode": {
    "name": "ipython",
    "version": 2
   },
   "file_extension": ".py",
   "mimetype": "text/x-python",
   "name": "python",
   "nbconvert_exporter": "python",
   "pygments_lexer": "ipython2",
   "version": "2.7.12"
  }
 },
 "nbformat": 4,
 "nbformat_minor": 2
}
